{
  "cells": [
    {
      "cell_type": "markdown",
      "metadata": {},
      "source": [
        "\n",
        "# Multiprocessing\n",
        "\n",
        "Demo of using multiprocessing for generating data in one process and\n",
        "plotting in another.\n",
        "\n",
        "Written by Robert Cimrman\n"
      ]
    },
    {
      "cell_type": "code",
      "execution_count": null,
      "metadata": {
        "collapsed": false
      },
      "outputs": [],
      "source": [
        "import multiprocessing as mp\n",
        "import time\n",
        "\n",
        "import matplotlib.pyplot as plt\n",
        "import numpy as np\n",
        "\n",
        "# Fixing random state for reproducibility\n",
        "np.random.seed(19680801)"
      ]
    },
    {
      "cell_type": "markdown",
      "metadata": {},
      "source": [
        "## Processing Class\n",
        "\n",
        "This class plots data it receives from a pipe.\n",
        "\n",
        "\n"
      ]
    },
    {
      "cell_type": "code",
      "execution_count": null,
      "metadata": {
        "collapsed": false
      },
      "outputs": [],
      "source": [
        "class ProcessPlotter:\n",
        "    def __init__(self):\n",
        "        self.x = []\n",
        "        self.y = []\n",
        "\n",
        "    def terminate(self):\n",
        "        plt.close('all')\n",
        "\n",
        "    def call_back(self):\n",
        "        while self.pipe.poll():\n",
        "            command = self.pipe.recv()\n",
        "            if command is None:\n",
        "                self.terminate()\n",
        "                return False\n",
        "            else:\n",
        "                self.x.append(command[0])\n",
        "                self.y.append(command[1])\n",
        "                self.ax.plot(self.x, self.y, 'ro')\n",
        "        self.fig.canvas.draw()\n",
        "        return True\n",
        "\n",
        "    def __call__(self, pipe):\n",
        "        print('starting plotter...')\n",
        "\n",
        "        self.pipe = pipe\n",
        "        self.fig, self.ax = plt.subplots()\n",
        "        timer = self.fig.canvas.new_timer(interval=1000)\n",
        "        timer.add_callback(self.call_back)\n",
        "        timer.start()\n",
        "\n",
        "        print('...done')\n",
        "        plt.show()"
      ]
    },
    {
      "cell_type": "markdown",
      "metadata": {},
      "source": [
        "## Plotting class\n",
        "\n",
        "This class uses multiprocessing to spawn a process to run code from the\n",
        "class above. When initialized, it creates a pipe and an instance of\n",
        "``ProcessPlotter`` which will be run in a separate process.\n",
        "\n",
        "When run from the command line, the parent process sends data to the spawned\n",
        "process which is then plotted via the callback function specified in\n",
        "``ProcessPlotter:__call__``.\n",
        "\n",
        "\n"
      ]
    },
    {
      "cell_type": "code",
      "execution_count": null,
      "metadata": {
        "collapsed": false
      },
      "outputs": [],
      "source": [
        "class NBPlot:\n",
        "    def __init__(self):\n",
        "        self.plot_pipe, plotter_pipe = mp.Pipe()\n",
        "        self.plotter = ProcessPlotter()\n",
        "        self.plot_process = mp.Process(\n",
        "            target=self.plotter, args=(plotter_pipe,), daemon=True)\n",
        "        self.plot_process.start()\n",
        "\n",
        "    def plot(self, finished=False):\n",
        "        send = self.plot_pipe.send\n",
        "        if finished:\n",
        "            send(None)\n",
        "        else:\n",
        "            data = np.random.random(2)\n",
        "            send(data)"
      ]
    },
    {
      "cell_type": "code",
      "execution_count": null,
      "metadata": {},
      "outputs": [],
      "source": [
        "def main():\n",
        "    pl = NBPlot()\n",
        "    for _ in range(10):\n",
        "        pl.plot()\n",
        "        time.sleep(0.5)\n",
        "    pl.plot(finished=True)"
      ]
    },
    {
      "cell_type": "code",
      "execution_count": null,
      "metadata": {},
      "outputs": [],
      "source": [
        "if __name__ == '__main__':\n",
        "    if plt.get_backend() == \"MacOSX\":\n",
        "        mp.set_start_method(\"forkserver\")\n",
        "    main()"
      ]
    },
    {
      "cell_type": "code",
      "execution_count": null,
      "metadata": {},
      "outputs": [],
      "source": [
        "import matplotlib.pyplot as plt\n",
        "import numpy as np\n",
        "\n",
        "import multiprocessing\n",
        "#multiprocessing.freeze_support() # <- may be required on windows\n",
        "\n",
        "def plot(datax, datay, name):\n",
        "    x = datax\n",
        "    y = datay**2\n",
        "    print(x,y)\n",
        "    plt.scatter(x, y, label=name)\n",
        "    plt.legend()\n",
        "    plt.show()\n",
        "\n",
        "def multiP():\n",
        "    p = []\n",
        "    for i in range(2):\n",
        "        p.append(multiprocessing.Process(target=plot, args=(i, i, i)))\n",
        "        p[i].start()\n",
        "    for i in range(2):\n",
        "        p[i].join()\n",
        "\n",
        "if __name__ == \"__main__\": \n",
        "    # input('Value: ') \n",
        "    multiP()\n"
      ]
    },
    {
      "cell_type": "code",
      "execution_count": null,
      "metadata": {},
      "outputs": [],
      "source": [
        "import multiprocessing as mp\n",
        "from time import sleep\n",
        "\n",
        "class A(object):\n",
        "    def __init__(self, *args, **kwargs):\n",
        "        # do other stuff\n",
        "        pass\n",
        "\n",
        "    def do_something(self, i):\n",
        "        sleep(0.2)\n",
        "        print('%s * %s = %s' % (i, i, i*i))\n",
        "\n",
        "    def run(self):\n",
        "        processes = []\n",
        "\n",
        "        for i in range(10):\n",
        "            p = mp.Process(target=self.do_something, args=(i,))\n",
        "            processes.append(p)\n",
        "\n",
        "        [x.start() for x in processes]\n",
        "\n",
        "\n",
        "if __name__ == '__main__':\n",
        "    a = A()\n",
        "    a.run()\n",
        "    print('21')"
      ]
    },
    {
      "cell_type": "code",
      "execution_count": 1,
      "metadata": {},
      "outputs": [
        {
          "name": "stdout",
          "output_type": "stream",
          "text": [
            "8589934592\n",
            "Thread pool4: 2.652794361114502\n",
            "Thread pool2: 2.5439236164093018\n",
            "Thread pool1: 2.569181203842163\n",
            "Process pool: 131.4846315383911\n"
          ]
        }
      ],
      "source": [
        "from time import time\n",
        "import multiprocessing as mp\n",
        "from multiprocessing.pool import ThreadPool\n",
        "import numpy as np\n",
        "import pickle\n",
        "\n",
        "def main():\n",
        "    arr = np.ones((1024*2, 1024*2, 1024*2), dtype=np.uint8)\n",
        "    expected_sum = np.sum(arr)\n",
        "    print(expected_sum)\n",
        "    with ThreadPool(4) as threadpool:\n",
        "        start = time()\n",
        "        assert (threadpool.apply(np.sum, (arr,)) == expected_sum)\n",
        "        print(\"Thread pool4:\", time() - start)\n",
        "    \n",
        "    with ThreadPool(2) as threadpool:\n",
        "        start = time()\n",
        "        assert (threadpool.apply(np.sum, (arr,)) == expected_sum)\n",
        "        print(\"Thread pool2:\", time() - start)\n",
        "    \n",
        "    with ThreadPool(1) as threadpool:\n",
        "        start = time()\n",
        "        assert (threadpool.apply(np.sum, (arr,)) == expected_sum)\n",
        "        print(\"Thread pool1:\", time() - start)\n",
        "\n",
        "    with mp.get_context(\"spawn\").Pool(4) as processpool:\n",
        "        start = time()\n",
        "        assert (processpool.apply(np.sum, (arr,)) == expected_sum)\n",
        "        print(\"Process pool:\", time() - start)\n",
        "\n",
        "if __name__ == \"__main__\":\n",
        "    main()\n"
      ]
    },
    {
      "cell_type": "code",
      "execution_count": null,
      "metadata": {},
      "outputs": [],
      "source": [
        "import numpy as np\n",
        "from time import time\n",
        "from multiprocessing.pool import ThreadPool\n",
        "\n",
        "arr = np.ones((1024, 1024, 1024))\n",
        "\n",
        "start = time()\n",
        "for i in range(10):\n",
        "    arr.sum()\n",
        "print(\"Sequential:\", time() - start)\n",
        "\n",
        "expected = arr.sum()\n",
        "start = time()\n",
        "with ThreadPool(10) as pool:\n",
        "    result = pool.map(np.sum, [arr] * 10)\n",
        "    assert result == [expected] * 10\n",
        "print(\"4 threads:\", time() - start)\n"
      ]
    },
    {
      "cell_type": "code",
      "execution_count": 1,
      "metadata": {},
      "outputs": [],
      "source": [
        "from concurrent.futures import ThreadPoolExecutor\n",
        "def wait_on_b():\n",
        "    time.sleep(5)\n",
        "    print(b.result())  # b will never complete because it is waiting on a.\n",
        "    return 5\n",
        "\n",
        "def wait_on_a():\n",
        "    time.sleep(5)\n",
        "    print(a.result())  # a will never complete because it is waiting on b.\n",
        "    return 6\n",
        "\n",
        "\n",
        "executor = ThreadPoolExecutor(max_workers=2)\n",
        "a = executor.submit(wait_on_b)\n",
        "b = executor.submit(wait_on_a)\n"
      ]
    },
    {
      "cell_type": "code",
      "execution_count": 4,
      "metadata": {},
      "outputs": [
        {
          "data": {
            "text/plain": [
              "<Future at 0x7f4e6df1e0d0 state=running>"
            ]
          },
          "execution_count": 4,
          "metadata": {},
          "output_type": "execute_result"
        }
      ],
      "source": [
        "def wait_on_future():\n",
        "    f = executor.submit(pow, 5, 2)\n",
        "    # This will never complete because there is only one worker thread and\n",
        "    # it is executing this function.\n",
        "    print(f.result())\n",
        "\n",
        "executor = ThreadPoolExecutor(max_workers=1)\n",
        "executor.submit(wait_on_future)"
      ]
    },
    {
      "cell_type": "code",
      "execution_count": 5,
      "metadata": {},
      "outputs": [
        {
          "name": "stdout",
          "output_type": "stream",
          "text": [
            "49999999995000000000\n"
          ]
        }
      ],
      "source": [
        "with ThreadPoolExecutor(max_workers=1) as executor:\n",
        "    future = executor.submit(sum, range(10000000000))\n",
        "    print(future.result())"
      ]
    },
    {
      "cell_type": "code",
      "execution_count": 3,
      "metadata": {},
      "outputs": [
        {
          "data": {
            "text/plain": [
              "True"
            ]
          },
          "execution_count": 3,
          "metadata": {},
          "output_type": "execute_result"
        }
      ],
      "source": [
        "True or ''"
      ]
    }
  ],
  "metadata": {
    "kernelspec": {
      "display_name": "Python 3",
      "language": "python",
      "name": "python3"
    },
    "language_info": {
      "codemirror_mode": {
        "name": "ipython",
        "version": 3
      },
      "file_extension": ".py",
      "mimetype": "text/x-python",
      "name": "python",
      "nbconvert_exporter": "python",
      "pygments_lexer": "ipython3",
      "version": "3.11.2"
    }
  },
  "nbformat": 4,
  "nbformat_minor": 0
}
