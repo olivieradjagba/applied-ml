{
 "cells": [
  {
   "cell_type": "code",
   "execution_count": 31,
   "metadata": {},
   "outputs": [],
   "source": [
    "import multiprocessing\n",
    "import time"
   ]
  },
  {
   "cell_type": "code",
   "execution_count": 32,
   "metadata": {},
   "outputs": [],
   "source": [
    "def counter1(num):\n",
    "    cnt = 0\n",
    "    for _ in range(num):\n",
    "        cnt += 1\n",
    "    print(\"counter1 done!\")\n",
    "\n",
    "\n",
    "def counter2(num):\n",
    "    cnt = 0\n",
    "    for _ in range(0, num, 2):\n",
    "        cnt += 1\n",
    "    print(\"counter2 done!\")\n"
   ]
  },
  {
   "cell_type": "code",
   "execution_count": 47,
   "metadata": {},
   "outputs": [
    {
     "name": "stdout",
     "output_type": "stream",
     "text": [
      "counter1 done!\n",
      "counter2 done!\n",
      "time taken =  3.8082566261291504\n",
      "counter2 done!\n",
      "counter1 done!\n",
      "time taken =  2.728377342224121\n"
     ]
    }
   ],
   "source": [
    "# if __name__ == \"__main__\":\n",
    "N = 2 * 10**8\n",
    "\n",
    "# singleprocessing\n",
    "st = time.time()\n",
    "counter1(N)\n",
    "counter2(N)\n",
    "en = time.time()\n",
    "print(\"time taken = \", en-st)\n",
    "\n",
    "# multiprocessing\n",
    "st = time.time()\n",
    "p1 = multiprocessing.Process(target=counter1, args=(N, ))\n",
    "p2 = multiprocessing.Process(target=counter2, args=(N, ))\n",
    "\n",
    "p1.start()\n",
    "p2.start()\n",
    "\n",
    "p1.join()\n",
    "p2.join()\n",
    "\n",
    "en = time.time()\n",
    "print(\"time taken = \", en-st)\n"
   ]
  }
 ],
 "metadata": {
  "kernelspec": {
   "display_name": "Python 3",
   "language": "python",
   "name": "python3"
  },
  "language_info": {
   "codemirror_mode": {
    "name": "ipython",
    "version": 3
   },
   "file_extension": ".py",
   "mimetype": "text/x-python",
   "name": "python",
   "nbconvert_exporter": "python",
   "pygments_lexer": "ipython3",
   "version": "3.11.2"
  }
 },
 "nbformat": 4,
 "nbformat_minor": 2
}
